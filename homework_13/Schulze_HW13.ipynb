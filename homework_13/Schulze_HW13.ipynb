{
 "cells": [
  {
   "cell_type": "markdown",
   "metadata": {},
   "source": [
    "# Scott Schulze's second code review (I think)?\n",
    "# HAS Tools Homework 13\n",
    "# 11/21/20\n",
    "\n"
   ]
  },
  {
   "cell_type": "markdown",
   "metadata": {},
   "source": [
    "## Introduction \n",
    "Welcome Laura, \n",
    "This is easily THE MOST stressful assignment of the semester so far, only because now do I have to do everything we have done, but do it all neatly, and in one place! AHHH! I understand that this assignment should be comforting in that we can all demonstrate all we have learned throughout the semester, but, if you'll pardon the desert pun, in my case it is tapping a dry well. One required item I am fairly certain that you will not see is a map, I never got my head around that after all the issues.\n",
    "The purpose is to demonstrate many of the topics we've covered in a uniform, easy to ready story-board like presentation. Hopefully by the end, there will have been a function used(we're still not friends, functions and I), two different kinds of plots (they may well be the same data, just viewed two different ways), my forecasts for weeeks 1, 2 and the 16 week. This all will be headed by the discussion immediately following this of where I stand currently and how the forecasting has been going to date."
   ]
  },
  {
   "cell_type": "markdown",
   "metadata": {},
   "source": [
    "## How it is made: Forecasting episode\n",
    "When the semester started out, week 1 especially I made my forecasts just from my own guessing. I am good at recognizing patterns and adjusting. Through the middle part of the course, I used my model for generating the forecasts this was very effective when flows were so low. Now that they have returned to near normal levels, I am back to forecasting from my knowledge as I don't have the wherewithall to change my code to better suit the current conditions."
   ]
  },
  {
   "cell_type": "markdown",
   "metadata": {},
   "source": []
  },
  {
   "cell_type": "markdown",
   "metadata": {},
   "source": [
    "### Let's start with some libraries"
   ]
  },
  {
   "cell_type": "code",
   "execution_count": null,
   "metadata": {},
   "outputs": [],
   "source": [
    "import numpy as np\n",
    "import pandas as pd\n",
    "import matplotlib.pyplot as plt\n",
    "import json\n",
    "import urllib.request as req\n",
    "import urllib\n",
    "from sklearn.linear_model import LinearRegression\n",
    "import datetime\n",
    "import os"
   ]
  },
  {
   "cell_type": "markdown",
   "metadata": {},
   "source": [
    "###  Now the function\n",
    "    This function is given the previous week's flow value as an input\n",
    "    Then uses the previously calculated model intercept and coefficient\n",
    "    to find the first week's prediction. Then uses the first prediction to\n",
    "    make the predicition for the second week's forecast. Before returning\n",
    "    both forecast values. Reverted to a 2-week forecast on 10/24/2020.\n",
    "\n",
    "    Variables:\n",
    "    previous_flow: previous_flow is given to the function as the average flow\n",
    "    from the previous week and is the initialization point for\n",
    "    prediction: prediction is an array, set to the size of the forecasts being\n",
    "    generated, the outputs from the model are stored here."
   ]
  },
  {
   "cell_type": "code",
   "execution_count": null,
   "metadata": {},
   "outputs": [],
   "source": [
    "def predictions(previous_flow):\n",
    " \n",
    "    prediction = np.zeros(2)\n",
    "    for i in range(len(prediction)):\n",
    "        if i == 0:\n",
    "            prediction[i] = model.intercept_ + model.coef_ * previous_flow\n",
    "        elif i == 1:\n",
    "            prediction[i] = model.intercept_ + model.coef_ * prediction[i-1]\n",
    "    return prediction"
   ]
  },
  {
   "cell_type": "markdown",
   "metadata": {},
   "source": [
    "### Next the data to work with, brought in via API\n",
    "The first dataset will be from a weather observing station near to the streamgauge, the second will be the streamgage data to be used."
   ]
  },
  {
   "cell_type": "code",
   "execution_count": null,
   "metadata": {},
   "outputs": [],
   "source": [
    "mytoken = '8a9ebdf8eaba4686b060300750c1658a'\n",
    "base_url = \"http://api.mesowest.net/v2/stations/timeseries\"\n",
    "args = {\n",
    "    'start': '199701010000',              \n",
    "    'end': '202011210000',                \n",
    "    'obtimezone': 'UTC',\n",
    "    'vars': 'air_temp',\n",
    "    'stids': 'QVDA3',\n",
    "    'units': 'temp|F',\n",
    "    'token': mytoken}\n",
    "apiString = urllib.parse.urlencode(args)\n",
    "print(apiString)\n",
    "fullUrl = base_url + '?' + apiString\n",
    "print(fullUrl)\n",
    "response = req.urlopen(fullUrl)\n",
    "responseDict = json.loads(response.read())\n"
   ]
  },
  {
   "cell_type": "markdown",
   "metadata": {},
   "source": [
    "### Now put it in a more useful format for us\n",
    "The following block takes the imported data and puts it into a pandas dataframe for us to utilize much more efficiently."
   ]
  },
  {
   "cell_type": "code",
   "execution_count": null,
   "metadata": {},
   "outputs": [],
   "source": [
    "data2 = pd.DataFrame({'Temperature': airT}, index=pd.to_datetime(dateTime))\n",
    "data_weekly = data2.resample('W').mean().round(1)\n",
    "print(len(data_weekly))\n",
    "lwt = data_weekly.tail(1).round(1)\n",
    "print(\"Last week's average temperature was \", lwt, \"°F.\")"
   ]
  },
  {
   "cell_type": "markdown",
   "metadata": {},
   "source": [
    "### Now bring in the flow data in a similar manner\n",
    "This section brings in streamgage data from the USGS and formats it, puts it into a dataframe and standardizes by using the datetime function."
   ]
  },
  {
   "cell_type": "code",
   "execution_count": null,
   "metadata": {},
   "outputs": [],
   "source": [
    "site = '09506000'\n",
    "start = '1990-01-01'\n",
    "end = '2020-11-21'      # Update this on Sunday\n",
    "url = \"https://waterdata.usgs.gov/nwis/dv?cb_00060=on&format=rdb&site_no=\" \\\n",
    "    + site + \"&referred_module=sw&period=&begin_date=\" + start \\\n",
    "    + \"&end_date=\" + end\n",
    "data = pd.read_table(url, skiprows=30, names=['agency_cd', 'site_no',\n",
    "                                              'datetime', 'flow', 'code'],\n",
    "                     parse_dates=['datetime'], index_col='datetime')\n",
    "data['year'] = pd.DatetimeIndex(data.index).year\n",
    "data['month'] = pd.DatetimeIndex(data.index).month\n",
    "data['day'] = pd.DatetimeIndex(data.index).dayofweek\n",
    "data['dayofweek'] = pd.DatetimeIndex(data.index).dayofweek\n",
    "flow_weekly = data.resample(\"W\").mean().round(2)\n",
    "flow_weekly.info()\n",
    "lwf = flow_weekly[['flow']].tail(1)\n"
   ]
  }
 ],
 "metadata": {
  "kernelspec": {
   "display_name": "Python [conda env:hastools] *",
   "language": "python",
   "name": "conda-env-hastools-py"
  },
  "language_info": {
   "codemirror_mode": {
    "name": "ipython",
    "version": 3
   },
   "file_extension": ".py",
   "mimetype": "text/x-python",
   "name": "python",
   "nbconvert_exporter": "python",
   "pygments_lexer": "ipython3",
   "version": "3.8.5"
  }
 },
 "nbformat": 4,
 "nbformat_minor": 4
}
